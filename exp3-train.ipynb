{
 "cells": [
  {
   "cell_type": "code",
   "execution_count": 89,
   "id": "ba2accb9",
   "metadata": {},
   "outputs": [],
   "source": [
    "import torch\n",
    "import torch.nn as nn\n",
    "import torch.optim as optim\n",
    "import torchvision\n",
    "import torchvision.transforms as transforms\n",
    "import matplotlib.pyplot as plt\n",
    "import numpy as np"
   ]
  },
  {
   "cell_type": "code",
   "execution_count": 90,
   "id": "6dfc65ba",
   "metadata": {},
   "outputs": [
    {
     "name": "stdout",
     "output_type": "stream",
     "text": [
      "cuda\n"
     ]
    }
   ],
   "source": [
    "# 设置设备\n",
    "device = torch.device('cuda' if torch.cuda.is_available() else 'cpu')\n",
    "print(device)"
   ]
  },
  {
   "cell_type": "code",
   "execution_count": 91,
   "id": "16860e1f",
   "metadata": {},
   "outputs": [],
   "source": [
    "# 数据预处理\n",
    "transform = transforms.Compose([\n",
    "    transforms.ToTensor(),\n",
    "    transforms.Normalize((0.1307,), (0.3081,))\n",
    "])"
   ]
  },
  {
   "cell_type": "code",
   "execution_count": 92,
   "id": "895864a1",
   "metadata": {},
   "outputs": [],
   "source": [
    "# 加载MNIST数据集\n",
    "batch_size = 512\n",
    "train_dataset = torchvision.datasets.MNIST(root='./data', train=True, transform=transform, download=True)\n",
    "test_dataset = torchvision.datasets.MNIST(root='./data', train=False, transform=transform, download=True)\n",
    "\n",
    "train_data = torch.utils.data.DataLoader(dataset=train_dataset, batch_size=batch_size, shuffle=True)\n",
    "test_data = torch.utils.data.DataLoader(dataset=test_dataset, batch_size=batch_size, shuffle=False)"
   ]
  },
  {
   "cell_type": "code",
   "execution_count": 93,
   "id": "4c54a66b",
   "metadata": {},
   "outputs": [],
   "source": [
    "class NetV1(torch.nn.Module):\n",
    "    def __init__(self):\n",
    "        super().__init__()\n",
    "        self.conv1 = nn.Conv2d(1,10,5)\n",
    "        self.conv2 = nn.Conv2d(10,20,3)\n",
    "        self.fc1 = nn.Linear(20*10*10,500)\n",
    "        self.fc2 = nn.Linear(500,10)\n",
    "    \n",
    "    def forward(self,x):  \n",
    "        input_size = x.size(0) #batch_size \n",
    "        x = self.conv1(x)\n",
    "        x = nn.functional.relu(x)\n",
    "        x = nn.functional.max_pool2d(x,2,2)\n",
    "        x = self.conv2(x)\n",
    "        x = nn.functional.relu(x)\n",
    "        \n",
    "        x = x.view(input_size,-1) #全连接\n",
    "        x = self.fc1(x)\n",
    "        x = nn.functional.relu(x) \n",
    "        x = self.fc2(x)\n",
    "        output = nn.functional.log_softmax(x,dim=1)\n",
    "        return x"
   ]
  },
  {
   "cell_type": "code",
   "execution_count": 94,
   "id": "d5f22989",
   "metadata": {},
   "outputs": [],
   "source": [
    "class NetV0(torch.nn.Module):\n",
    "    def __init__(self):\n",
    "        super().__init__()\n",
    "        self.fc1 = nn.Linear(784, 500)\n",
    "        self.fc2 = nn.Linear(500, 256)\n",
    "        self.fc3 = nn.Linear(256, 10)\n",
    "    \n",
    "    def forward(self, x):\n",
    "        x = x.view(x.size(0), -1)\n",
    "        x = nn.functional.relu(self.fc1(x))\n",
    "        x = nn.functional.relu(self.fc2(x))\n",
    "        x = self.fc3(x)\n",
    "        output = nn.functional.log_softmax(x,dim=1)\n",
    "        return x\n",
    "    "
   ]
  },
  {
   "cell_type": "code",
   "execution_count": 95,
   "id": "7b0615ec",
   "metadata": {},
   "outputs": [],
   "source": [
    "import torch.nn.functional as F\n",
    "\n",
    "class LeNet5(nn.Module):\n",
    "    def __init__(self):\n",
    "        super(LeNet5, self).__init__()\n",
    "        self.conv1 = nn.Conv2d(1, 6, kernel_size=5)\n",
    "        self.pool1 = nn.MaxPool2d(kernel_size=2, stride=2)\n",
    "        self.conv2 = nn.Conv2d(6, 16, kernel_size=5)\n",
    "        self.pool2 = nn.MaxPool2d(kernel_size=2, stride=2)\n",
    "        self.fc1 = nn.Linear(16 * 4 * 4, 120)\n",
    "        self.fc2 = nn.Linear(120, 84)\n",
    "        self.fc3 = nn.Linear(84, 10)\n",
    "\n",
    "    def forward(self, x):\n",
    "        x = self.pool1(torch.relu(self.conv1(x)))\n",
    "        x = self.pool2(torch.relu(self.conv2(x)))\n",
    "        x = x.view(-1, 16 * 4 * 4)\n",
    "        x = torch.relu(self.fc1(x))\n",
    "        x = torch.relu(self.fc2(x))\n",
    "        x = self.fc3(x)\n",
    "        return x\n"
   ]
  },
  {
   "cell_type": "markdown",
   "id": "7aeb3bf8",
   "metadata": {},
   "source": [
    "## 训练模型\n",
    "我们使用训练数据来训练模型，并在训练过程中打印损失值。"
   ]
  },
  {
   "cell_type": "code",
   "execution_count": 96,
   "id": "d16c793b",
   "metadata": {},
   "outputs": [],
   "source": [
    "model = NetV1().to(device)\n",
    "optimizer = optim.Adam(model.parameters())"
   ]
  },
  {
   "cell_type": "code",
   "execution_count": 97,
   "id": "e5396bfd",
   "metadata": {},
   "outputs": [],
   "source": [
    "#定义训练函数模型\n",
    "def train_model(model,device,train_loader,optimizers,epoch):\n",
    "    model.train()\n",
    "    for batch_index,(data,target) in enumerate(train_loader):\n",
    "        data,target = data.to(device),target.to(device) # [512, 1, 28, 28]\n",
    "\n",
    "        optimizer.zero_grad()\n",
    "        output = model(data)\n",
    "\n",
    "        loss = nn.functional.cross_entropy(output,target)\n",
    "        loss.backward()\n",
    "        optimizer.step()\n",
    "        \n",
    "        if batch_index%3000 == 0:\n",
    "            print(\"Train Epoch :{}  Loss:{:.6f}\".format(epoch,loss.item()))"
   ]
  },
  {
   "cell_type": "code",
   "execution_count": 98,
   "id": "da2b502a",
   "metadata": {},
   "outputs": [
    {
     "name": "stdout",
     "output_type": "stream",
     "text": [
      "Train Epoch :1  Loss:2.319835\n",
      "Train Epoch :2  Loss:0.107440\n",
      "Train Epoch :3  Loss:0.038028\n",
      "Train Epoch :4  Loss:0.033185\n",
      "Train Epoch :5  Loss:0.042697\n",
      "Train Epoch :6  Loss:0.025743\n",
      "Train Epoch :7  Loss:0.030956\n",
      "Train Epoch :8  Loss:0.013553\n",
      "Train Epoch :9  Loss:0.019363\n",
      "Train Epoch :10  Loss:0.004308\n"
     ]
    }
   ],
   "source": [
    "EPOCH=10\n",
    "for epoch in range(1,EPOCH+1):\n",
    "    train_model(model,device,train_data,optimizer,epoch)\n"
   ]
  },
  {
   "cell_type": "code",
   "execution_count": 99,
   "id": "c7145d5a",
   "metadata": {},
   "outputs": [],
   "source": [
    "from sklearn.metrics import confusion_matrix\n",
    "import seaborn as sns \n",
    "import matplotlib.pyplot as plt\n",
    "\n",
    "def test_model(model,device,train_loader,optimizers,epoch):\n",
    "    model.eval()\n",
    "    test_loss = 0\n",
    "    correct = 0\n",
    "    all_preds = torch.tensor([])\n",
    "    all_targets = torch.tensor([])\n",
    "    with torch.no_grad():\n",
    "        for data,target in test_data:\n",
    "            data,target = data.to(device),target.to(device)\n",
    "            output = model(data)\n",
    "            test_loss += nn.functional.cross_entropy(output,target,reduction='sum').item()\n",
    "            pred = output.max(1,keepdim=True)[1]\n",
    "            correct += pred.eq(target.view_as(pred)).sum().item()\n",
    "            all_preds = torch.cat((all_preds, pred.cpu()), dim=0)\n",
    "            all_targets = torch.cat((all_targets, target.cpu()), dim=0)\n",
    "\n",
    "    # loss 和 accuracy            \n",
    "    test_loss /= len(test_data.dataset)\n",
    "    print(\"\\nTest set: Average loss: {:.4f}, Accuracy: {}/{} ({:.2f}%)\\n\".format(\n",
    "        test_loss, correct, len(test_data.dataset), 100. * correct / len(test_data.dataset)\n",
    "    ))\n",
    "\n",
    "    # 混淆矩阵\n",
    "    cm = confusion_matrix(all_targets, all_preds)\n",
    "    plt.figure(figsize=(10, 8))\n",
    "    sns.heatmap(cm, annot=True, fmt='d', cmap='Blues')\n",
    "    plt.xlabel('Predicted')\n",
    "    plt.ylabel('True')\n",
    "    plt.show()"
   ]
  },
  {
   "cell_type": "code",
   "execution_count": 100,
   "id": "04a2f927",
   "metadata": {},
   "outputs": [
    {
     "name": "stdout",
     "output_type": "stream",
     "text": [
      "\n",
      "Test set: Average loss: 0.0317, Accuracy: 9901/10000 (99.01%)\n",
      "\n"
     ]
    },
    {
     "data": {
      "image/png": "[encoded data removed]",
      "text/plain": [
       "<Figure size 1000x800 with 2 Axes>"
      ]
     },
     "metadata": {},
     "output_type": "display_data"
    }
   ],
   "source": [
    "test_model(model,device,test_data,optimizer,1)"
   ]
  },
  {
   "cell_type": "code",
   "execution_count": 102,
   "id": "1fc1353a",
   "metadata": {},
   "outputs": [],
   "source": [
    "# 保存模型\n",
    "torch.save(model.state_dict(), 'mnist_model')"
   ]
  }
 ],
 "metadata": {
  "kernelspec": {
   "display_name": "base",
   "language": "python",
   "name": "python3"
  },
  "language_info": {
   "codemirror_mode": {
    "name": "ipython",
    "version": 3
   },
   "file_extension": ".py",
   "mimetype": "text/x-python",
   "name": "python",
   "nbconvert_exporter": "python",
   "pygments_lexer": "ipython3",
   "version": "3.11.5"
  }
 },
 "nbformat": 4,
 "nbformat_minor": 5
}
