{
 "cells": [
  {
   "cell_type": "code",
   "execution_count": 6,
   "metadata": {},
   "outputs": [],
   "source": [
    "import os\n",
    "import torch\n",
    "import torch.nn as nn\n",
    "import torch.nn.functional as F\n",
    "import torch.optim as optim\n",
    "from torchvision import datasets,transforms\n",
    "from PIL import Image, ImageOps\n",
    "import cv2\n",
    "import numpy as np\n",
    "from matplotlib import pyplot as plt\n",
    "\n",
    "DEVICE = torch.device(\"cuda\" if torch.cuda.is_available() else \"cpu\") \n",
    "\n",
    "class Net(nn.Module):\n",
    "    def __init__(self):\n",
    "        super().__init__()\n",
    "        self.conv1 = nn.Conv2d(1,10,5)#1:灰度图片通道，10：输出通道，5：Kernel\n",
    "        self.conv2 = nn.Conv2d(10,20,3)#1:输入通道，20：输出通道，3：Kernel\n",
    "        self.fc1 = nn.Linear(20*10*10,500)#20*10*10:输入通道，500：输出通道\n",
    "        self.fc2 = nn.Linear(500,10)#500:输入通道，10：输出通道\n",
    "    \n",
    "    def forward(self,x):\n",
    "        input_size = x.size(0)#batch_size \n",
    "        x = self.conv1(x)#输入：batch*1*28*28，输出：batch*10*24*24  (24 = 28-5+1，经过卷积核运算)\n",
    "        x = F.relu(x)#激活函数,输出大小保持不变\n",
    "        x = F.max_pool2d(x,2,2)# 最大池化层（寻找出最大的特征，过滤器为2*2，步长为2） 输入：batch*10*24*24 输出batch*10*12*12\n",
    "        \n",
    "        x = self.conv2(x)# 输入：batch*10*12*12,输出：batch*20*10*10  (10=12-3+1)\n",
    "        x = F.relu(x)\n",
    "        \n",
    "        x = x.view(input_size,-1)#各自拉平，-1：自动计算维度 ，20*10*10=2000\n",
    "        \n",
    "        x = self.fc1(x)#输入：batch*2000 输出：batch*500\n",
    "        x = F.relu(x) \n",
    "        \n",
    "        x = self.fc2(x)#输入：batch*500，输出：batch*10\n",
    "        \n",
    "        output = F.log_softmax(x,dim=1)#计算分类后，每个数字的概率值\n",
    "        \n",
    "        return output\n"
   ]
  },
  {
   "cell_type": "code",
   "execution_count": null,
   "metadata": {},
   "outputs": [],
   "source": []
  },
  {
   "cell_type": "code",
   "execution_count": 7,
   "metadata": {},
   "outputs": [],
   "source": [
    "def predict(img, model, DEVICE):\n",
    "    transform = transforms.Compose([\n",
    "        transforms.Resize((22,22)),\n",
    "        transforms.Lambda(lambda img: ImageOps.expand(img, border=3, fill=0)),\n",
    "        transforms.ToTensor(),\n",
    "        transforms.Normalize((0.1307,),(0.3081,))\n",
    "        ])\n",
    "    img = transform(img).to(DEVICE)\n",
    "    model.eval()\n",
    "    with torch.no_grad():\n",
    "        output = model(img)\n",
    "        pred = output.argmax(dim=1,keepdim=True)\n",
    "    return pred.item()"
   ]
  },
  {
   "cell_type": "code",
   "execution_count": 8,
   "metadata": {},
   "outputs": [],
   "source": [
    "from PIL import Image\n",
    "#图像裁剪\n",
    "def image_process(img):\n",
    "    digit_images = []\n",
    "    \n",
    "    #获取二值图像\n",
    "    gray = cv2.cvtColor(img, cv2.COLOR_BGR2GRAY)\n",
    "    _, binary = cv2.threshold(gray, 128, 255, cv2.THRESH_BINARY_INV)\n",
    "    \n",
    "    #获取轮廓并裁剪\n",
    "    contours, _ = cv2.findContours(binary, cv2.RETR_EXTERNAL, cv2.CHAIN_APPROX_SIMPLE)\n",
    "    for contour in contours:\n",
    "        x, y, w, h = cv2.boundingRect(contour)\n",
    "        digit_img = binary[y:y+h, x:x+w]\n",
    "        \n",
    "        #将数字放到中间\n",
    "        height, width = digit_img.shape\n",
    "        size = max(height, width)\n",
    "        padded_img = np.zeros((size, size), dtype=np.uint8)\n",
    "        padded_img[(size - height) // 2:(size - height) // 2 + height, (size - width) // 2:(size - width) // 2 + width] = digit_img\n",
    "        digit_img = padded_img\n",
    "        \n",
    "        #转为PIL对象\n",
    "        digit_img = Image.fromarray(digit_img)\n",
    "        digit_img = digit_img.convert('L')\n",
    "        \n",
    "        digit_images.append(digit_img)\n",
    "        \n",
    "    for pic in digit_images:\n",
    "        plt.imshow(pic)\n",
    "        plt.show()\n",
    "\n",
    "    return digit_images"
   ]
  },
  {
   "cell_type": "code",
   "execution_count": 9,
   "metadata": {},
   "outputs": [],
   "source": [
    "\n",
    "def predict_sequence(img, model, DEVICE):\n",
    "    digit_images = image_process(img)\n",
    "    predictions = []\n",
    "    for digit_img in digit_images:\n",
    "        pred = predict(digit_img, model, DEVICE)\n",
    "        predictions.append(str(pred))\n",
    "    return predictions"
   ]
  },
  {
   "cell_type": "code",
   "execution_count": 10,
   "metadata": {},
   "outputs": [
    {
     "name": "stdout",
     "output_type": "stream",
     "text": [
      "The ID is: 272\n"
     ]
    },
    {
     "data": {
      "image/png": "[encoded data removed]",
      "text/plain": [
       "<Figure size 640x480 with 1 Axes>"
      ]
     },
     "metadata": {},
     "output_type": "display_data"
    }
   ],
   "source": [
    "img = cv2.imread(\"digits.png\")\n",
    "img = cv2.resize(img, (800, 400))\n",
    "model = NetV1().to(DEVICE)\n",
    "model.load_state_dict(torch.load(\"mnist_model\"))\n",
    "\n",
    "res = predict_sequence(img, model, DEVICE)\n",
    "print(\"The ID is:\",res)"
   ]
  }
 ],
 "metadata": {
  "kernelspec": {
   "display_name": "base",
   "language": "python",
   "name": "python3"
  },
  "language_info": {
   "codemirror_mode": {
    "name": "ipython",
    "version": 3
   },
   "file_extension": ".py",
   "mimetype": "text/x-python",
   "name": "python",
   "nbconvert_exporter": "python",
   "pygments_lexer": "ipython3",
   "version": "3.11.5"
  }
 },
 "nbformat": 4,
 "nbformat_minor": 2
}
